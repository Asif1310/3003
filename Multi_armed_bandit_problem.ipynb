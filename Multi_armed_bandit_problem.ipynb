{
  "nbformat": 4,
  "nbformat_minor": 0,
  "metadata": {
    "colab": {
      "name": "Multi-armed bandit problem",
      "provenance": [],
      "authorship_tag": "ABX9TyNwk3G/WLyahpe07DBVEZYu",
      "include_colab_link": true
    },
    "kernelspec": {
      "name": "python3",
      "display_name": "Python 3"
    },
    "language_info": {
      "name": "python"
    }
  },
  "cells": [
    {
      "cell_type": "markdown",
      "metadata": {
        "id": "view-in-github",
        "colab_type": "text"
      },
      "source": [
        "<a href=\"https://colab.research.google.com/github/Asif1310/3003/blob/main/Multi_armed_bandit_problem.ipynb\" target=\"_parent\"><img src=\"https://colab.research.google.com/assets/colab-badge.svg\" alt=\"Open In Colab\"/></a>"
      ]
    },
    {
      "cell_type": "markdown",
      "source": [
        "# Importing required libraries & modules"
      ],
      "metadata": {
        "id": "Cl3rXVtIfg91"
      }
    },
    {
      "cell_type": "code",
      "execution_count": 1,
      "metadata": {
        "id": "bBYv3KnmWHOo"
      },
      "outputs": [],
      "source": [
        "from scipy.stats import binom # for creating random variables with Bernoulli distribution\n",
        "import numpy as np # for working with arrays \n",
        "import math # to evaluate square roots and logarithms in the formula\n",
        "import random "
      ]
    },
    {
      "cell_type": "code",
      "source": [
        "#@title Creating random variables for each machine with certain success rates (code is hidden in this cell)\n",
        "machine_1 = binom.rvs(n= 1, p = 0.22, size = 2000)\n",
        "machine_2 = binom.rvs(n= 1, p = 0.37, size = 2000)\n",
        "machine_3 = binom.rvs(n= 1, p = 0.29, size = 2000)\n",
        "machine_4 = binom.rvs(n= 1, p = 0.51, size = 2000)\n",
        "machine_5 = binom.rvs(n= 1, p = 0.68, size = 2000)\n"
      ],
      "metadata": {
        "id": "Z7Db1tYGXQk7"
      },
      "execution_count": 2,
      "outputs": []
    },
    {
      "cell_type": "markdown",
      "source": [
        " Creating a numpy array named 'machines' which is essentially a list of five random variables created in previous step"
      ],
      "metadata": {
        "id": "CdrWJAgjgCqk"
      }
    },
    {
      "cell_type": "code",
      "source": [
        "machines = np.array([machine_1, machine_2, machine_3, machine_4, machine_5]) "
      ],
      "metadata": {
        "id": "qbVA37LGev9b"
      },
      "execution_count": 3,
      "outputs": []
    },
    {
      "cell_type": "markdown",
      "source": [
        "## Let us explore for few rounds and then exploit the best machine"
      ],
      "metadata": {
        "id": "CACzaIqlMECI"
      }
    },
    {
      "cell_type": "markdown",
      "source": [
        "Initializing few variables which will be later used in computations"
      ],
      "metadata": {
        "id": "ubeogGRpK0UN"
      }
    },
    {
      "cell_type": "code",
      "source": [
        "machines_selected = [] # stores the machine number selected in each round\n",
        "num_selected = [0,0,0,0,0] # stores the number of time each of the five machines have been selected\n",
        "indiv_return = [0,0,0,0,0] # stores the rewards obtained from each of the five machines"
      ],
      "metadata": {
        "id": "dfE1Z8EP6Dml"
      },
      "execution_count": 4,
      "outputs": []
    },
    {
      "cell_type": "markdown",
      "source": [
        "# Begin of the exploration phase:"
      ],
      "metadata": {
        "id": "nw6pWD_YgO5P"
      }
    },
    {
      "cell_type": "code",
      "source": [
        "rounds = 10\n",
        "for n in range(rounds):\n",
        "  if n<5:\n",
        "    d = n\n",
        "  else:\n",
        "    d = n%5\n",
        "  machines_selected.append(d)\n",
        "  p = num_selected[d] \n",
        "  indiv_return[d] += machines[d][p]\n",
        "  num_selected[d] += 1\n",
        "\n",
        "\n",
        "\n",
        "\n",
        "    \n",
        "\n",
        "\n"
      ],
      "metadata": {
        "id": "SWqVAmQOY_nX"
      },
      "execution_count": 5,
      "outputs": []
    },
    {
      "cell_type": "markdown",
      "source": [
        "## Results after the end of exploration:"
      ],
      "metadata": {
        "id": "ZtBMl4bZIvlx"
      }
    },
    {
      "cell_type": "code",
      "source": [
        "for i in range(5):\n",
        "  print(\"Number of times machine number %d has been selected: %2d \" %(i,num_selected[i]))\n"
      ],
      "metadata": {
        "colab": {
          "base_uri": "https://localhost:8080/"
        },
        "id": "D9lFWzW5IxwQ",
        "outputId": "b6395369-588e-460b-adae-5c7ae6536ca5"
      },
      "execution_count": 6,
      "outputs": [
        {
          "output_type": "stream",
          "name": "stdout",
          "text": [
            "Number of times machine number 0 has been selected:  2 \n",
            "Number of times machine number 1 has been selected:  2 \n",
            "Number of times machine number 2 has been selected:  2 \n",
            "Number of times machine number 3 has been selected:  2 \n",
            "Number of times machine number 4 has been selected:  2 \n"
          ]
        }
      ]
    },
    {
      "cell_type": "code",
      "source": [
        "for i in range(5):\n",
        "  print(\"Rewards obtained from machine number %d: %2d \" %(i, indiv_return[i]))"
      ],
      "metadata": {
        "colab": {
          "base_uri": "https://localhost:8080/"
        },
        "id": "XnwWDvcFJz3x",
        "outputId": "81afbcc0-9415-4dbd-e3d1-6aa176f659ca"
      },
      "execution_count": 7,
      "outputs": [
        {
          "output_type": "stream",
          "name": "stdout",
          "text": [
            "Rewards obtained from machine number 0:  1 \n",
            "Rewards obtained from machine number 1:  1 \n",
            "Rewards obtained from machine number 2:  1 \n",
            "Rewards obtained from machine number 3:  2 \n",
            "Rewards obtained from machine number 4:  1 \n"
          ]
        }
      ]
    },
    {
      "cell_type": "markdown",
      "source": [
        "# Begin of the exploitation phase:"
      ],
      "metadata": {
        "id": "7awkEfyfz_fb"
      }
    },
    {
      "cell_type": "code",
      "source": [
        "best_mach = indiv_return.index(max(indiv_return))\n",
        "exploit_rounds = 2000-rounds\n",
        "for n in range(exploit_rounds):\n",
        "  machines_selected.append(best_mach)\n",
        "  p = num_selected[best_mach]\n",
        "  indiv_return[best_mach] += machines[best_mach][p]\n",
        "  num_selected[best_mach] += 1\n",
        "  \n",
        "\n"
      ],
      "metadata": {
        "id": "aC-3Dp9U1lKE"
      },
      "execution_count": 8,
      "outputs": []
    },
    {
      "cell_type": "markdown",
      "source": [
        "## Results after the end of exploitation"
      ],
      "metadata": {
        "id": "PGkEduTqL8Eh"
      }
    },
    {
      "cell_type": "code",
      "source": [
        "for i in range(5):\n",
        "  print(\"Rewards obtained from machine number %d: %2d \" %(i, indiv_return[i]))"
      ],
      "metadata": {
        "colab": {
          "base_uri": "https://localhost:8080/"
        },
        "id": "DhKdySsB48il",
        "outputId": "faacc5aa-09c8-4357-e679-720650d0aa80"
      },
      "execution_count": 9,
      "outputs": [
        {
          "output_type": "stream",
          "name": "stdout",
          "text": [
            "Rewards obtained from machine number 0:  1 \n",
            "Rewards obtained from machine number 1:  1 \n",
            "Rewards obtained from machine number 2:  1 \n",
            "Rewards obtained from machine number 3: 993 \n",
            "Rewards obtained from machine number 4:  1 \n"
          ]
        }
      ]
    },
    {
      "cell_type": "code",
      "source": [
        "print(\"Total rewards obtained : %2d\" %(sum(indiv_return)))"
      ],
      "metadata": {
        "colab": {
          "base_uri": "https://localhost:8080/"
        },
        "id": "MlVShdmE494Q",
        "outputId": "71bc4d29-cb80-40f3-f8e6-1788475a4422"
      },
      "execution_count": 10,
      "outputs": [
        {
          "output_type": "stream",
          "name": "stdout",
          "text": [
            "Total rewards obtained : 997\n"
          ]
        }
      ]
    },
    {
      "cell_type": "code",
      "source": [
        "\n",
        "def explore_exploit(num):\n",
        "  machines_selected = [] # stores the machine number selected in each round\n",
        "  num_selected = [0,0,0,0,0] # stores the number of time each of the five machines have been selected\n",
        "  indiv_return = [0,0,0,0,0] # stores the rewards obtained from each of the five machines\n",
        "  rounds = num\n",
        "  for n in range(rounds):\n",
        "    if n<5:\n",
        "      d = n\n",
        "    else:\n",
        "      d = n%5\n",
        "    machines_selected.append(d)\n",
        "    p = num_selected[d] \n",
        "    indiv_return[d] += machines[d][p]\n",
        "    num_selected[d] += 1\n",
        "  best_mach = indiv_return.index(max(indiv_return))\n",
        "  print(\"Machine number %d is identified as the best machine\" %(best_mach))\n",
        "  exploit_rounds = 2000-rounds\n",
        "  for n in range(exploit_rounds):\n",
        "    machines_selected.append(best_mach)\n",
        "    p = num_selected[best_mach]\n",
        "    indiv_return[best_mach] += machines[best_mach][p]\n",
        "    num_selected[best_mach] += 1\n",
        "  print(\"Total rewards obtained for %d exploratory rounds : %2d\" %(rounds,sum(indiv_return)))\n",
        "\n"
      ],
      "metadata": {
        "id": "VlivK9veNEhu"
      },
      "execution_count": 11,
      "outputs": []
    },
    {
      "cell_type": "code",
      "source": [
        "list1 = [10,50,100,250,500,1000]\n",
        "for i in list1:\n",
        "  explore_exploit(i)\n",
        "  print()"
      ],
      "metadata": {
        "colab": {
          "base_uri": "https://localhost:8080/"
        },
        "id": "kvHl8RB2N2Ld",
        "outputId": "6407d032-6e61-4006-e489-dee90cf16018"
      },
      "execution_count": 12,
      "outputs": [
        {
          "output_type": "stream",
          "name": "stdout",
          "text": [
            "Machine number 3 is identified as the best machine\n",
            "Total rewards obtained for 10 exploratory rounds : 997\n",
            "\n",
            "Machine number 3 is identified as the best machine\n",
            "Total rewards obtained for 50 exploratory rounds : 994\n",
            "\n",
            "Machine number 3 is identified as the best machine\n",
            "Total rewards obtained for 100 exploratory rounds : 991\n",
            "\n",
            "Machine number 4 is identified as the best machine\n",
            "Total rewards obtained for 250 exploratory rounds : 1304\n",
            "\n",
            "Machine number 4 is identified as the best machine\n",
            "Total rewards obtained for 500 exploratory rounds : 1238\n",
            "\n",
            "Machine number 4 is identified as the best machine\n",
            "Total rewards obtained for 1000 exploratory rounds : 1095\n",
            "\n"
          ]
        }
      ]
    },
    {
      "cell_type": "markdown",
      "source": [
        "# Epsilon-greedy method:"
      ],
      "metadata": {
        "id": "vI39pcpKSyrc"
      }
    },
    {
      "cell_type": "markdown",
      "source": [
        "Creating a random variable with binomial distribution and with certain probability of outputting '1', which will be leveraged for deciding between exploration and exploitation later."
      ],
      "metadata": {
        "id": "VYOWksQhl463"
      }
    },
    {
      "cell_type": "code",
      "source": [
        "rv = binom.rvs(n=1, p=0.7, size = 2000)"
      ],
      "metadata": {
        "id": "04fPhdmhS3HI"
      },
      "execution_count": 13,
      "outputs": []
    },
    {
      "cell_type": "markdown",
      "source": [
        "Initializing few variables which will be later used in computations"
      ],
      "metadata": {
        "id": "3f6sV9rxmPw5"
      }
    },
    {
      "cell_type": "code",
      "source": [
        "machines_selected = [] # stores the machine number selected in each round\n",
        "num_selected = [0,0,0,0,0] # stores the number of time each of the five machines have been selected\n",
        "indiv_return = [0,0,0,0,0] # stores the rewards obtained from each of the five machines"
      ],
      "metadata": {
        "id": "4aMnfBJPTYri"
      },
      "execution_count": 14,
      "outputs": []
    },
    {
      "cell_type": "markdown",
      "source": [
        "Implementation of epsilon-greedy technique, but setting aside certain initial rounds for pure exploration"
      ],
      "metadata": {
        "id": "7rO-lmZymb9G"
      }
    },
    {
      "cell_type": "code",
      "source": [
        "for i in range(2000):\n",
        "  if i<20: #initial exploration\n",
        "    d = i%5\n",
        "    machines_selected.append(d)\n",
        "    p = num_selected[d]\n",
        "    indiv_return[d] += machines[d][p]\n",
        "    num_selected[d] += 1\n",
        "  else:\n",
        "    if rv[i] == 1: #based on the probability defined for rv, it will output the value as 1 or 0\n",
        "      best_mach = indiv_return.index(max(indiv_return)) \n",
        "      machines_selected.append(best_mach)\n",
        "      p = num_selected[best_mach]\n",
        "      indiv_return[best_mach] += machines[best_mach][p]\n",
        "      num_selected[best_mach] += 1\n",
        "    else:\n",
        "      new_list1 = [] #creating a new list of machine indices by excluding the index of best machine\n",
        "      for g in range(5):\n",
        "        if g != best_mach:\n",
        "          new_list1.append(g)\n",
        "      mach_index = random.choice(new_list1)\n",
        "      machines_selected.append(mach_index)\n",
        "      p = num_selected[mach_index]\n",
        "      indiv_return[mach_index] += machines[mach_index][p]\n",
        "      num_selected[mach_index] += 1\n",
        "      \n",
        "\n",
        "\n",
        "\n",
        "\n",
        "  \n",
        "\n"
      ],
      "metadata": {
        "id": "ZIlWjPVMTPU9"
      },
      "execution_count": 15,
      "outputs": []
    },
    {
      "cell_type": "code",
      "source": [
        "for i in range(5):\n",
        "  print(\"Number of times machine number %d has been selected: %2d \" %(i,num_selected[i]))"
      ],
      "metadata": {
        "colab": {
          "base_uri": "https://localhost:8080/"
        },
        "id": "r7ldzzonWuIF",
        "outputId": "84249c3b-2f57-4af8-811d-8ea3bc7f80e2"
      },
      "execution_count": 16,
      "outputs": [
        {
          "output_type": "stream",
          "name": "stdout",
          "text": [
            "Number of times machine number 0 has been selected: 148 \n",
            "Number of times machine number 1 has been selected: 157 \n",
            "Number of times machine number 2 has been selected: 155 \n",
            "Number of times machine number 3 has been selected: 1390 \n",
            "Number of times machine number 4 has been selected: 150 \n"
          ]
        }
      ]
    },
    {
      "cell_type": "code",
      "source": [
        "for i in range(5):\n",
        "  print(\"Rewards obtained from machine number %d: %2d \" %(i, indiv_return[i]))"
      ],
      "metadata": {
        "colab": {
          "base_uri": "https://localhost:8080/"
        },
        "id": "oOpWpmxUWwvk",
        "outputId": "be251e51-8064-4b17-89cc-514001fd2f1e"
      },
      "execution_count": 17,
      "outputs": [
        {
          "output_type": "stream",
          "name": "stdout",
          "text": [
            "Rewards obtained from machine number 0: 38 \n",
            "Rewards obtained from machine number 1: 60 \n",
            "Rewards obtained from machine number 2: 44 \n",
            "Rewards obtained from machine number 3: 690 \n",
            "Rewards obtained from machine number 4: 94 \n"
          ]
        }
      ]
    },
    {
      "cell_type": "code",
      "source": [
        "print(\"Total rewards obtained : %2d\" %(sum(indiv_return)))"
      ],
      "metadata": {
        "colab": {
          "base_uri": "https://localhost:8080/"
        },
        "id": "8xOZl1LlW0UZ",
        "outputId": "edfa1c8a-07b6-466d-ca3c-13049c6a2a1b"
      },
      "execution_count": 18,
      "outputs": [
        {
          "output_type": "stream",
          "name": "stdout",
          "text": [
            "Total rewards obtained : 926\n"
          ]
        }
      ]
    },
    {
      "cell_type": "markdown",
      "source": [
        "#Upper Confidence Bound technique:"
      ],
      "metadata": {
        "id": "FSs6WRf1nW5S"
      }
    },
    {
      "cell_type": "markdown",
      "source": [
        "Initializing few variables which will be later used in computations"
      ],
      "metadata": {
        "id": "vOJM2FJQtApK"
      }
    },
    {
      "cell_type": "code",
      "source": [
        "machines_selected = [] # stores the machine number selected in each round\n",
        "num_selected = [0,0,0,0,0] # stores the number of time each of the five machines have been selected\n",
        "indiv_return = [0,0,0,0,0] # stores the rewards obtained from each of the five machines"
      ],
      "metadata": {
        "id": "aU5vuzHpn1Gw"
      },
      "execution_count": 19,
      "outputs": []
    },
    {
      "cell_type": "markdown",
      "source": [
        "### UCB implementation:"
      ],
      "metadata": {
        "id": "EySN1U4LtFE8"
      }
    },
    {
      "cell_type": "code",
      "source": [
        "for i in range(2000):\n",
        "  if i<5: #initial exploration\n",
        "    d = i%5\n",
        "  else:\n",
        "    max = 0\n",
        "    for mach in range(len(machines)):\n",
        "      average = indiv_return[mach]/num_selected[mach]\n",
        "      delta = math.sqrt(1.5 * (math.log(i+1))/(num_selected[mach]+1))\n",
        "      UCB = average + delta\n",
        "      if UCB > max:\n",
        "        max = UCB\n",
        "        d = mach\n",
        "  machines_selected.append(d)\n",
        "  p = num_selected[d]\n",
        "  indiv_return[d] += machines[d][p]\n",
        "  num_selected[d] += 1"
      ],
      "metadata": {
        "id": "PcPQSDFfn9AI"
      },
      "execution_count": 20,
      "outputs": []
    },
    {
      "cell_type": "code",
      "source": [
        "for i in range(5):\n",
        "  print(\"Number of times machine number %d has been selected: %2d \" %(i,num_selected[i]))"
      ],
      "metadata": {
        "colab": {
          "base_uri": "https://localhost:8080/"
        },
        "id": "FpXxCjwVqvK0",
        "outputId": "24b907b0-cbfe-4d25-fe4e-f4177b8dd962"
      },
      "execution_count": 21,
      "outputs": [
        {
          "output_type": "stream",
          "name": "stdout",
          "text": [
            "Number of times machine number 0 has been selected: 37 \n",
            "Number of times machine number 1 has been selected: 66 \n",
            "Number of times machine number 2 has been selected: 51 \n",
            "Number of times machine number 3 has been selected: 95 \n",
            "Number of times machine number 4 has been selected: 1751 \n"
          ]
        }
      ]
    },
    {
      "cell_type": "code",
      "source": [
        "for i in range(5):\n",
        "  print(\"Rewards obtained from machine number %d: %2d \" %(i, indiv_return[i]))"
      ],
      "metadata": {
        "colab": {
          "base_uri": "https://localhost:8080/"
        },
        "id": "PYw72uD7qxYI",
        "outputId": "11a79d8a-1763-425b-f3a3-a1cfeedd637e"
      },
      "execution_count": 22,
      "outputs": [
        {
          "output_type": "stream",
          "name": "stdout",
          "text": [
            "Rewards obtained from machine number 0:  8 \n",
            "Rewards obtained from machine number 1: 23 \n",
            "Rewards obtained from machine number 2: 15 \n",
            "Rewards obtained from machine number 3: 40 \n",
            "Rewards obtained from machine number 4: 1202 \n"
          ]
        }
      ]
    },
    {
      "cell_type": "code",
      "source": [
        "print(\"Total rewards obtained : %2d\" %(sum(indiv_return)))"
      ],
      "metadata": {
        "colab": {
          "base_uri": "https://localhost:8080/"
        },
        "id": "wP-CH61zqzrU",
        "outputId": "32cc2c5b-ccd3-45b8-a60d-620d92189866"
      },
      "execution_count": 23,
      "outputs": [
        {
          "output_type": "stream",
          "name": "stdout",
          "text": [
            "Total rewards obtained : 1288\n"
          ]
        }
      ]
    },
    {
      "cell_type": "markdown",
      "source": [
        "# Thompson's sampling technique:"
      ],
      "metadata": {
        "id": "8Gx_pNXLsi5F"
      }
    },
    {
      "cell_type": "markdown",
      "source": [
        "Initializing few variables which will be later used in computations"
      ],
      "metadata": {
        "id": "a8fefSoPs5fg"
      }
    },
    {
      "cell_type": "code",
      "source": [
        "machines_selected = [] # stores the machine number selected in each round\n",
        "num_selected = [0,0,0,0,0] # stores the number of time each of the five machines have been selected\n",
        "return_1 = [0,0,0,0,0] # stores the number of '1' rewards obtained from each of the five machines\n",
        "return_2 = [0,0,0,0,0] # stores the number of '0' rewards obtained from each of the five machines"
      ],
      "metadata": {
        "id": "WOBE_1KxsnSL"
      },
      "execution_count": 24,
      "outputs": []
    },
    {
      "cell_type": "markdown",
      "source": [
        "### Thompson's sampling implementation"
      ],
      "metadata": {
        "id": "Db8Dre-EtMiH"
      }
    },
    {
      "cell_type": "code",
      "source": [
        "for i in range(2000):\n",
        "  if i<5: #initial exploration\n",
        "    d = i%5\n",
        "  else:\n",
        "    max = 0\n",
        "    for mach in range(len(machines)):\n",
        "      first = return_1[mach]\n",
        "      second = return_2[mach]\n",
        "      theta = random.betavariate(first+1, second+1)\n",
        "      if theta>max:\n",
        "        max = theta\n",
        "        d = mach\n",
        "  machines_selected.append(d)\n",
        "  p = num_selected[d]\n",
        "  reward = machines[d][p]\n",
        "  if reward == 1:\n",
        "    return_1[mach] += 1\n",
        "  else:\n",
        "    return_2[mach] += 1\n",
        "  num_selected[d] += 1\n"
      ],
      "metadata": {
        "id": "mvJWa-d5tSH9"
      },
      "execution_count": 25,
      "outputs": []
    },
    {
      "cell_type": "code",
      "source": [
        "for i in range(5):\n",
        "  print(\"Number of times machine number %d has been selected: %2d \" %(i,num_selected[i]))"
      ],
      "metadata": {
        "colab": {
          "base_uri": "https://localhost:8080/"
        },
        "id": "33-VJWJWvyl8",
        "outputId": "7b91a78d-38c5-471c-d8b1-49098a5ac5a0"
      },
      "execution_count": 26,
      "outputs": [
        {
          "output_type": "stream",
          "name": "stdout",
          "text": [
            "Number of times machine number 0 has been selected: 483 \n",
            "Number of times machine number 1 has been selected: 497 \n",
            "Number of times machine number 2 has been selected: 475 \n",
            "Number of times machine number 3 has been selected: 510 \n",
            "Number of times machine number 4 has been selected: 35 \n"
          ]
        }
      ]
    },
    {
      "cell_type": "code",
      "source": [
        "for i in range(5):\n",
        "  print(\"Rewards obtained from machine number %d: %2d \" %(i, indiv_return[i]))"
      ],
      "metadata": {
        "colab": {
          "base_uri": "https://localhost:8080/"
        },
        "id": "UY2syiuRv09N",
        "outputId": "0d41473e-3f01-4bc0-899d-1072af66fc5e"
      },
      "execution_count": 27,
      "outputs": [
        {
          "output_type": "stream",
          "name": "stdout",
          "text": [
            "Rewards obtained from machine number 0:  8 \n",
            "Rewards obtained from machine number 1: 23 \n",
            "Rewards obtained from machine number 2: 15 \n",
            "Rewards obtained from machine number 3: 40 \n",
            "Rewards obtained from machine number 4: 1202 \n"
          ]
        }
      ]
    },
    {
      "cell_type": "code",
      "source": [
        "print(\"Total rewards obtained : %2d\" %(sum(indiv_return)))"
      ],
      "metadata": {
        "colab": {
          "base_uri": "https://localhost:8080/"
        },
        "id": "2kt88Vmkv3N8",
        "outputId": "22586109-1a99-4660-aef0-9b6614a7a5c9"
      },
      "execution_count": 28,
      "outputs": [
        {
          "output_type": "stream",
          "name": "stdout",
          "text": [
            "Total rewards obtained : 1288\n"
          ]
        }
      ]
    }
  ]
}