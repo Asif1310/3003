{
  "nbformat": 4,
  "nbformat_minor": 0,
  "metadata": {
    "colab": {
      "name": "Multi-armed bandit problem",
      "provenance": [],
      "authorship_tag": "ABX9TyNHW0UqJnkAYEAQ0jA384C1",
      "include_colab_link": true
    },
    "kernelspec": {
      "name": "python3",
      "display_name": "Python 3"
    },
    "language_info": {
      "name": "python"
    }
  },
  "cells": [
    {
      "cell_type": "markdown",
      "metadata": {
        "id": "view-in-github",
        "colab_type": "text"
      },
      "source": [
        "<a href=\"https://colab.research.google.com/github/Asif1310/3003/blob/main/Multi_armed_bandit_problem.ipynb\" target=\"_parent\"><img src=\"https://colab.research.google.com/assets/colab-badge.svg\" alt=\"Open In Colab\"/></a>"
      ]
    },
    {
      "cell_type": "markdown",
      "source": [
        "# Importing required libraries & modules"
      ],
      "metadata": {
        "id": "Cl3rXVtIfg91"
      }
    },
    {
      "cell_type": "code",
      "execution_count": 1,
      "metadata": {
        "id": "bBYv3KnmWHOo"
      },
      "outputs": [],
      "source": [
        "from scipy.stats import binom # for creating random variables with Bernoulli distribution\n",
        "import numpy as np # for working with arrays \n",
        "import math # to evaluate square roots and logarithms in the formula\n",
        "import random "
      ]
    },
    {
      "cell_type": "code",
      "source": [
        "#@title Creating random variables for each machine with certain success rates (code is hidden in this cell)\n",
        "machine_1 = binom.rvs(n= 1, p = 0.22, size = 2000)\n",
        "machine_2 = binom.rvs(n= 1, p = 0.37, size = 2000)\n",
        "machine_3 = binom.rvs(n= 1, p = 0.29, size = 2000)\n",
        "machine_4 = binom.rvs(n= 1, p = 0.51, size = 2000)\n",
        "machine_5 = binom.rvs(n= 1, p = 0.68, size = 2000)\n"
      ],
      "metadata": {
        "id": "Z7Db1tYGXQk7",
        "cellView": "form"
      },
      "execution_count": 2,
      "outputs": []
    },
    {
      "cell_type": "markdown",
      "source": [
        " Creating a numpy array named 'machines' which is essentially a list of five random variables created in previous step"
      ],
      "metadata": {
        "id": "CdrWJAgjgCqk"
      }
    },
    {
      "cell_type": "code",
      "source": [
        "machines = np.array([machine_1, machine_2, machine_3, machine_4, machine_5]) "
      ],
      "metadata": {
        "id": "qbVA37LGev9b"
      },
      "execution_count": 3,
      "outputs": []
    },
    {
      "cell_type": "markdown",
      "source": [
        "## Let us explore for few rounds and then exploit the best machine"
      ],
      "metadata": {
        "id": "CACzaIqlMECI"
      }
    },
    {
      "cell_type": "markdown",
      "source": [
        "Initializing few variables which will be later used in computations"
      ],
      "metadata": {
        "id": "ubeogGRpK0UN"
      }
    },
    {
      "cell_type": "code",
      "source": [
        "machines_selected = [] # stores the machine number selected in each round\n",
        "num_selected = [0,0,0,0,0] # stores the number of time each of the five machines have been selected\n",
        "indiv_return = [0,0,0,0,0] # stores the rewards obtained from each of the five machines"
      ],
      "metadata": {
        "id": "dfE1Z8EP6Dml"
      },
      "execution_count": 4,
      "outputs": []
    },
    {
      "cell_type": "markdown",
      "source": [
        "# Begin of the exploration phase:"
      ],
      "metadata": {
        "id": "nw6pWD_YgO5P"
      }
    },
    {
      "cell_type": "code",
      "source": [
        "rounds = 10\n",
        "for n in range(rounds):\n",
        "  if n<5:\n",
        "    d = n\n",
        "  else:\n",
        "    d = n%5\n",
        "  machines_selected.append(d)\n",
        "  p = num_selected[d] \n",
        "  indiv_return[d] += machines[d][p]\n",
        "  num_selected[d] += 1\n",
        "\n",
        "\n",
        "\n",
        "\n",
        "    \n",
        "\n",
        "\n"
      ],
      "metadata": {
        "id": "SWqVAmQOY_nX"
      },
      "execution_count": 5,
      "outputs": []
    },
    {
      "cell_type": "markdown",
      "source": [
        "## Results after the end of exploration:"
      ],
      "metadata": {
        "id": "ZtBMl4bZIvlx"
      }
    },
    {
      "cell_type": "code",
      "source": [
        "for i in range(5):\n",
        "  print(\"Number of times machine number %d has been selected: %2d \" %(i,num_selected[i]))\n"
      ],
      "metadata": {
        "colab": {
          "base_uri": "https://localhost:8080/"
        },
        "id": "D9lFWzW5IxwQ",
        "outputId": "8a6358ec-dd11-47fa-d8ca-9a0b501e9480"
      },
      "execution_count": 6,
      "outputs": [
        {
          "output_type": "stream",
          "name": "stdout",
          "text": [
            "Number of times machine number 0 has been selected:  2 \n",
            "Number of times machine number 1 has been selected:  2 \n",
            "Number of times machine number 2 has been selected:  2 \n",
            "Number of times machine number 3 has been selected:  2 \n",
            "Number of times machine number 4 has been selected:  2 \n"
          ]
        }
      ]
    },
    {
      "cell_type": "code",
      "source": [
        "for i in range(5):\n",
        "  print(\"Rewards obtained from machine number %d: %2d \" %(i, indiv_return[i]))"
      ],
      "metadata": {
        "colab": {
          "base_uri": "https://localhost:8080/"
        },
        "id": "XnwWDvcFJz3x",
        "outputId": "ac9213aa-a827-462a-c332-85d374e8c0b4"
      },
      "execution_count": 7,
      "outputs": [
        {
          "output_type": "stream",
          "name": "stdout",
          "text": [
            "Rewards obtained from machine number 0:  0 \n",
            "Rewards obtained from machine number 1:  0 \n",
            "Rewards obtained from machine number 2:  1 \n",
            "Rewards obtained from machine number 3:  2 \n",
            "Rewards obtained from machine number 4:  1 \n"
          ]
        }
      ]
    },
    {
      "cell_type": "markdown",
      "source": [
        "# Begin of the exploitation phase:"
      ],
      "metadata": {
        "id": "7awkEfyfz_fb"
      }
    },
    {
      "cell_type": "code",
      "source": [
        "best_mach = indiv_return.index(max(indiv_return))\n",
        "exploit_rounds = 2000-rounds\n",
        "for n in range(exploit_rounds):\n",
        "  machines_selected.append(best_mach)\n",
        "  p = num_selected[best_mach]\n",
        "  indiv_return[best_mach] += machines[best_mach][p]\n",
        "  num_selected[best_mach] += 1\n",
        "  \n",
        "\n"
      ],
      "metadata": {
        "id": "aC-3Dp9U1lKE"
      },
      "execution_count": 8,
      "outputs": []
    },
    {
      "cell_type": "markdown",
      "source": [
        "## Results after the end of exploitation"
      ],
      "metadata": {
        "id": "PGkEduTqL8Eh"
      }
    },
    {
      "cell_type": "code",
      "source": [
        "for i in range(5):\n",
        "  print(\"Rewards obtained from machine number %d: %2d \" %(i, indiv_return[i]))"
      ],
      "metadata": {
        "colab": {
          "base_uri": "https://localhost:8080/"
        },
        "id": "DhKdySsB48il",
        "outputId": "d49719a2-7de5-4d6f-8243-9bf5dadab8f9"
      },
      "execution_count": 9,
      "outputs": [
        {
          "output_type": "stream",
          "name": "stdout",
          "text": [
            "Rewards obtained from machine number 0:  0 \n",
            "Rewards obtained from machine number 1:  0 \n",
            "Rewards obtained from machine number 2:  1 \n",
            "Rewards obtained from machine number 3: 1033 \n",
            "Rewards obtained from machine number 4:  1 \n"
          ]
        }
      ]
    },
    {
      "cell_type": "code",
      "source": [
        "print(\"Total rewards obtained : %2d\" %(sum(indiv_return)))"
      ],
      "metadata": {
        "colab": {
          "base_uri": "https://localhost:8080/"
        },
        "id": "MlVShdmE494Q",
        "outputId": "4c86c747-7126-4872-82a5-bcd2af688a94"
      },
      "execution_count": 10,
      "outputs": [
        {
          "output_type": "stream",
          "name": "stdout",
          "text": [
            "Total rewards obtained : 1035\n"
          ]
        }
      ]
    },
    {
      "cell_type": "code",
      "source": [
        "#@title A function named 'explore_exploit' is defined \n",
        "def explore_exploit(num):\n",
        "  machines_selected = [] # stores the machine number selected in each round\n",
        "  num_selected = [0,0,0,0,0] # stores the number of time each of the five machines have been selected\n",
        "  indiv_return = [0,0,0,0,0] # stores the rewards obtained from each of the five machines\n",
        "  rounds = num\n",
        "  for n in range(rounds):\n",
        "    if n<5:\n",
        "      d = n\n",
        "    else:\n",
        "      d = n%5\n",
        "    machines_selected.append(d)\n",
        "    p = num_selected[d] \n",
        "    indiv_return[d] += machines[d][p]\n",
        "    num_selected[d] += 1\n",
        "  best_mach = indiv_return.index(max(indiv_return))\n",
        "  print(\"Machine number %d is identified as the best machine\" %(best_mach+1))\n",
        "  exploit_rounds = 2000-rounds\n",
        "  for n in range(exploit_rounds):\n",
        "    machines_selected.append(best_mach)\n",
        "    p = num_selected[best_mach]\n",
        "    indiv_return[best_mach] += machines[best_mach][p]\n",
        "    num_selected[best_mach] += 1\n",
        "  print(\"Total rewards obtained for %d exploratory rounds : %2d\" %(rounds,sum(indiv_return)))\n",
        "\n"
      ],
      "metadata": {
        "cellView": "form",
        "id": "VlivK9veNEhu"
      },
      "execution_count": 11,
      "outputs": []
    },
    {
      "cell_type": "code",
      "source": [
        "list1 = [10,50,100,250,500,1000]\n",
        "for i in list1:\n",
        "  explore_exploit(i)\n",
        "  print()"
      ],
      "metadata": {
        "colab": {
          "base_uri": "https://localhost:8080/"
        },
        "id": "kvHl8RB2N2Ld",
        "outputId": "6062e875-b72b-4bdc-ba33-147d0e550022"
      },
      "execution_count": 12,
      "outputs": [
        {
          "output_type": "stream",
          "name": "stdout",
          "text": [
            "Machine number 4 is identified as the best machine\n",
            "Total rewards obtained for 10 exploratory rounds : 1035\n",
            "\n",
            "Machine number 4 is identified as the best machine\n",
            "Total rewards obtained for 50 exploratory rounds : 1029\n",
            "\n",
            "Machine number 4 is identified as the best machine\n",
            "Total rewards obtained for 100 exploratory rounds : 1026\n",
            "\n",
            "Machine number 5 is identified as the best machine\n",
            "Total rewards obtained for 250 exploratory rounds : 1305\n",
            "\n",
            "Machine number 5 is identified as the best machine\n",
            "Total rewards obtained for 500 exploratory rounds : 1250\n",
            "\n",
            "Machine number 5 is identified as the best machine\n",
            "Total rewards obtained for 1000 exploratory rounds : 1073\n",
            "\n"
          ]
        }
      ]
    },
    {
      "cell_type": "markdown",
      "source": [
        "# Epsilon-greedy method:"
      ],
      "metadata": {
        "id": "vI39pcpKSyrc"
      }
    },
    {
      "cell_type": "markdown",
      "source": [
        "Creating a random variable with binomial distribution and with certain probability of outputting '1', which will be leveraged for deciding between exploration and exploitation later."
      ],
      "metadata": {
        "id": "VYOWksQhl463"
      }
    },
    {
      "cell_type": "code",
      "source": [
        "rv = binom.rvs(n=1, p=0.7, size = 2000)"
      ],
      "metadata": {
        "id": "04fPhdmhS3HI"
      },
      "execution_count": 13,
      "outputs": []
    },
    {
      "cell_type": "markdown",
      "source": [
        "Initializing few variables which will be later used in computations"
      ],
      "metadata": {
        "id": "3f6sV9rxmPw5"
      }
    },
    {
      "cell_type": "code",
      "source": [
        "machines_selected = [] # stores the machine number selected in each round\n",
        "num_selected = [0,0,0,0,0] # stores the number of time each of the five machines have been selected\n",
        "indiv_return = [0,0,0,0,0] # stores the rewards obtained from each of the five machines"
      ],
      "metadata": {
        "id": "4aMnfBJPTYri"
      },
      "execution_count": 14,
      "outputs": []
    },
    {
      "cell_type": "markdown",
      "source": [
        "Implementation of epsilon-greedy technique, but setting aside certain initial rounds for pure exploration"
      ],
      "metadata": {
        "id": "7rO-lmZymb9G"
      }
    },
    {
      "cell_type": "code",
      "source": [
        "for i in range(2000):\n",
        "  if i<20: #initial exploration\n",
        "    d = i%5\n",
        "    machines_selected.append(d)\n",
        "    p = num_selected[d]\n",
        "    indiv_return[d] += machines[d][p]\n",
        "    num_selected[d] += 1\n",
        "  else:\n",
        "    if rv[i] == 1: #based on the probability defined for rv, it will output the value as 1 or 0\n",
        "      best_mach = indiv_return.index(max(indiv_return)) \n",
        "      machines_selected.append(best_mach)\n",
        "      p = num_selected[best_mach]\n",
        "      indiv_return[best_mach] += machines[best_mach][p]\n",
        "      num_selected[best_mach] += 1\n",
        "    else:\n",
        "      new_list1 = [] #creating a new list of machine indices by excluding the index of best machine\n",
        "      for g in range(5):\n",
        "        if g != best_mach:\n",
        "          new_list1.append(g)\n",
        "      mach_index = random.choice(new_list1)\n",
        "      machines_selected.append(mach_index)\n",
        "      p = num_selected[mach_index]\n",
        "      indiv_return[mach_index] += machines[mach_index][p]\n",
        "      num_selected[mach_index] += 1\n",
        "      \n",
        "\n",
        "\n",
        "\n",
        "\n",
        "  \n",
        "\n"
      ],
      "metadata": {
        "id": "ZIlWjPVMTPU9"
      },
      "execution_count": 15,
      "outputs": []
    },
    {
      "cell_type": "code",
      "source": [
        "for i in range(5):\n",
        "  print(\"Number of times machine number %d has been selected: %2d \" %(i,num_selected[i]))"
      ],
      "metadata": {
        "colab": {
          "base_uri": "https://localhost:8080/"
        },
        "id": "r7ldzzonWuIF",
        "outputId": "a059d0eb-e605-4da3-c368-855de6f02ca3"
      },
      "execution_count": 16,
      "outputs": [
        {
          "output_type": "stream",
          "name": "stdout",
          "text": [
            "Number of times machine number 0 has been selected: 152 \n",
            "Number of times machine number 1 has been selected: 151 \n",
            "Number of times machine number 2 has been selected: 155 \n",
            "Number of times machine number 3 has been selected: 1397 \n",
            "Number of times machine number 4 has been selected: 145 \n"
          ]
        }
      ]
    },
    {
      "cell_type": "code",
      "source": [
        "for i in range(5):\n",
        "  print(\"Rewards obtained from machine number %d: %2d \" %(i, indiv_return[i]))"
      ],
      "metadata": {
        "colab": {
          "base_uri": "https://localhost:8080/"
        },
        "id": "oOpWpmxUWwvk",
        "outputId": "c0434dbb-0a0e-4c1e-b13e-f54a3825ae63"
      },
      "execution_count": 17,
      "outputs": [
        {
          "output_type": "stream",
          "name": "stdout",
          "text": [
            "Rewards obtained from machine number 0: 38 \n",
            "Rewards obtained from machine number 1: 50 \n",
            "Rewards obtained from machine number 2: 53 \n",
            "Rewards obtained from machine number 3: 723 \n",
            "Rewards obtained from machine number 4: 97 \n"
          ]
        }
      ]
    },
    {
      "cell_type": "code",
      "source": [
        "print(\"Total rewards obtained : %2d\" %(sum(indiv_return)))"
      ],
      "metadata": {
        "colab": {
          "base_uri": "https://localhost:8080/"
        },
        "id": "8xOZl1LlW0UZ",
        "outputId": "cb12be5e-f29d-4bf7-e475-cd8dff1295c3"
      },
      "execution_count": 18,
      "outputs": [
        {
          "output_type": "stream",
          "name": "stdout",
          "text": [
            "Total rewards obtained : 961\n"
          ]
        }
      ]
    },
    {
      "cell_type": "markdown",
      "source": [
        "#Upper Confidence Bound technique:"
      ],
      "metadata": {
        "id": "FSs6WRf1nW5S"
      }
    },
    {
      "cell_type": "markdown",
      "source": [
        "Initializing few variables which will be later used in computations"
      ],
      "metadata": {
        "id": "vOJM2FJQtApK"
      }
    },
    {
      "cell_type": "code",
      "source": [
        "machines_selected = [] # stores the machine number selected in each round\n",
        "num_selected = [0,0,0,0,0] # stores the number of time each of the five machines have been selected\n",
        "indiv_return = [0,0,0,0,0] # stores the rewards obtained from each of the five machines"
      ],
      "metadata": {
        "id": "aU5vuzHpn1Gw"
      },
      "execution_count": 19,
      "outputs": []
    },
    {
      "cell_type": "markdown",
      "source": [
        "### UCB implementation:"
      ],
      "metadata": {
        "id": "EySN1U4LtFE8"
      }
    },
    {
      "cell_type": "code",
      "source": [
        "for i in range(2000):\n",
        "  if i<5: #initial exploration\n",
        "    d = i%5\n",
        "  else:\n",
        "    max = 0\n",
        "    for mach in range(len(machines)):\n",
        "      average = indiv_return[mach]/num_selected[mach]\n",
        "      delta = math.sqrt(1.5 * (math.log(i+1))/(num_selected[mach]+1))\n",
        "      UCB = average + delta\n",
        "      if UCB > max:\n",
        "        max = UCB\n",
        "        d = mach\n",
        "  machines_selected.append(d)\n",
        "  p = num_selected[d]\n",
        "  indiv_return[d] += machines[d][p]\n",
        "  num_selected[d] += 1"
      ],
      "metadata": {
        "id": "PcPQSDFfn9AI"
      },
      "execution_count": 20,
      "outputs": []
    },
    {
      "cell_type": "code",
      "source": [
        "for i in range(5):\n",
        "  print(\"Number of times machine number %d has been selected: %2d \" %(i,num_selected[i]))"
      ],
      "metadata": {
        "colab": {
          "base_uri": "https://localhost:8080/"
        },
        "id": "FpXxCjwVqvK0",
        "outputId": "fd62aebd-f14b-44f1-9bb5-925f49ca2f40"
      },
      "execution_count": 21,
      "outputs": [
        {
          "output_type": "stream",
          "name": "stdout",
          "text": [
            "Number of times machine number 0 has been selected: 33 \n",
            "Number of times machine number 1 has been selected: 80 \n",
            "Number of times machine number 2 has been selected: 73 \n",
            "Number of times machine number 3 has been selected: 155 \n",
            "Number of times machine number 4 has been selected: 1659 \n"
          ]
        }
      ]
    },
    {
      "cell_type": "code",
      "source": [
        "for i in range(5):\n",
        "  print(\"Rewards obtained from machine number %d: %2d \" %(i, indiv_return[i]))"
      ],
      "metadata": {
        "colab": {
          "base_uri": "https://localhost:8080/"
        },
        "id": "PYw72uD7qxYI",
        "outputId": "f4a2d708-17a4-414a-f16f-dadbdffac205"
      },
      "execution_count": 22,
      "outputs": [
        {
          "output_type": "stream",
          "name": "stdout",
          "text": [
            "Rewards obtained from machine number 0:  6 \n",
            "Rewards obtained from machine number 1: 31 \n",
            "Rewards obtained from machine number 2: 28 \n",
            "Rewards obtained from machine number 3: 76 \n",
            "Rewards obtained from machine number 4: 1133 \n"
          ]
        }
      ]
    },
    {
      "cell_type": "code",
      "source": [
        "print(\"Total rewards obtained : %2d\" %(sum(indiv_return)))"
      ],
      "metadata": {
        "colab": {
          "base_uri": "https://localhost:8080/"
        },
        "id": "wP-CH61zqzrU",
        "outputId": "0a350418-9198-4b0b-bae5-aa4001f519cd"
      },
      "execution_count": 23,
      "outputs": [
        {
          "output_type": "stream",
          "name": "stdout",
          "text": [
            "Total rewards obtained : 1274\n"
          ]
        }
      ]
    },
    {
      "cell_type": "markdown",
      "source": [
        "# Thompson's sampling technique:"
      ],
      "metadata": {
        "id": "8Gx_pNXLsi5F"
      }
    },
    {
      "cell_type": "markdown",
      "source": [
        "Initializing few variables which will be later used in computations"
      ],
      "metadata": {
        "id": "a8fefSoPs5fg"
      }
    },
    {
      "cell_type": "code",
      "source": [
        "machines_selected = [] # stores the machine number selected in each round\n",
        "num_selected = [0,0,0,0,0] # stores the number of time each of the five machines have been selected\n",
        "return_1 = [0,0,0,0,0] # stores the number of '1' rewards obtained from each of the five machines\n",
        "return_2 = [0,0,0,0,0] # stores the number of '0' rewards obtained from each of the five machines"
      ],
      "metadata": {
        "id": "WOBE_1KxsnSL"
      },
      "execution_count": 24,
      "outputs": []
    },
    {
      "cell_type": "markdown",
      "source": [
        "### Thompson's sampling implementation"
      ],
      "metadata": {
        "id": "Db8Dre-EtMiH"
      }
    },
    {
      "cell_type": "code",
      "source": [
        "for i in range(2000):\n",
        "  if i<5: #initial exploration\n",
        "    d = i%5\n",
        "  else:\n",
        "    max = 0\n",
        "    for mach in range(len(machines)):\n",
        "      first = return_1[mach]\n",
        "      second = return_2[mach]\n",
        "      theta = random.betavariate(first+1, second+1)\n",
        "      if theta>max:\n",
        "        max = theta\n",
        "        d = mach\n",
        "  machines_selected.append(d)\n",
        "  p = num_selected[d]\n",
        "  reward = machines[d][p]\n",
        "  if reward == 1:\n",
        "    return_1[mach] += 1\n",
        "  else:\n",
        "    return_2[mach] += 1\n",
        "  num_selected[d] += 1\n"
      ],
      "metadata": {
        "id": "mvJWa-d5tSH9"
      },
      "execution_count": 25,
      "outputs": []
    },
    {
      "cell_type": "code",
      "source": [
        "for i in range(5):\n",
        "  print(\"Number of times machine number %d has been selected: %2d \" %(i,num_selected[i]))"
      ],
      "metadata": {
        "colab": {
          "base_uri": "https://localhost:8080/"
        },
        "id": "33-VJWJWvyl8",
        "outputId": "ff62e451-b12d-46ac-d6bd-5620ea6ca683"
      },
      "execution_count": 26,
      "outputs": [
        {
          "output_type": "stream",
          "name": "stdout",
          "text": [
            "Number of times machine number 0 has been selected: 492 \n",
            "Number of times machine number 1 has been selected: 457 \n",
            "Number of times machine number 2 has been selected: 505 \n",
            "Number of times machine number 3 has been selected: 511 \n",
            "Number of times machine number 4 has been selected: 35 \n"
          ]
        }
      ]
    },
    {
      "cell_type": "code",
      "source": [
        "for i in range(5):\n",
        "  print(\"Rewards obtained from machine number %d: %2d \" %(i, indiv_return[i]))"
      ],
      "metadata": {
        "colab": {
          "base_uri": "https://localhost:8080/"
        },
        "id": "UY2syiuRv09N",
        "outputId": "ab142a5e-88ff-43d6-d314-78d2a0a26158"
      },
      "execution_count": 27,
      "outputs": [
        {
          "output_type": "stream",
          "name": "stdout",
          "text": [
            "Rewards obtained from machine number 0:  6 \n",
            "Rewards obtained from machine number 1: 31 \n",
            "Rewards obtained from machine number 2: 28 \n",
            "Rewards obtained from machine number 3: 76 \n",
            "Rewards obtained from machine number 4: 1133 \n"
          ]
        }
      ]
    },
    {
      "cell_type": "code",
      "source": [
        "print(\"Total rewards obtained : %2d\" %(sum(indiv_return)))"
      ],
      "metadata": {
        "colab": {
          "base_uri": "https://localhost:8080/"
        },
        "id": "2kt88Vmkv3N8",
        "outputId": "90628f76-c4a4-4a93-85e6-a9141a24f468"
      },
      "execution_count": 28,
      "outputs": [
        {
          "output_type": "stream",
          "name": "stdout",
          "text": [
            "Total rewards obtained : 1274\n"
          ]
        }
      ]
    }
  ]
}